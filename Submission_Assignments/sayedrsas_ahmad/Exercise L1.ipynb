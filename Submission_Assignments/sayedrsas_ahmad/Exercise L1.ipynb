{
 "cells": [
  {
   "cell_type": "markdown",
   "id": "83c3c567914bf017",
   "metadata": {},
   "source": [
    "## Exercise: Writing functions\n",
    "In the following, you will write three functions in which you integrate the previously learned content."
   ]
  },
  {
   "cell_type": "markdown",
   "id": "2dea4c09a812a91b",
   "metadata": {},
   "source": [
    "### Function 1: Beergarden capacity\n",
    "\n",
    "Write a function `beer_garden_capacity(guests, tables)` that calculates whether there are enough seats in a beer garden.\n",
    "\n",
    "Each table has 8 seats.\n",
    "The function should return:\n",
    "- `“There are enough tables!”` → if there is enough space.\n",
    "- `“Not enough tables, find another beer garden!”` → if there are more guests than seats."
   ]
  },
  {
   "cell_type": "code",
   "execution_count": 3,
   "id": "6d0e85b58d23536f",
   "metadata": {},
   "outputs": [],
   "source": [
    "def beer_garden_capacity(guests, tables):\n",
    "    total_seats = tables * 8\n",
    "    if guests <= total_seats:\n",
    "        return \"There are enough tables!\"\n",
    "    else:\n",
    "        return \"Not enough tables, find another beer garden!\""
   ]
  },
  {
   "cell_type": "code",
   "execution_count": 5,
   "id": "4c8d83ff20a41334",
   "metadata": {},
   "outputs": [
    {
     "name": "stdout",
     "output_type": "stream",
     "text": [
      "There are enough tables!\n",
      "Not enough tables, find another beer garden!\n"
     ]
    }
   ],
   "source": [
    "# Example calls\n",
    "print(beer_garden_capacity(40, 6))  # \"There are enough tables!\"\n",
    "print(beer_garden_capacity(50, 5))  # \"Not enough tables, find another beer garden!\""
   ]
  },
  {
   "cell_type": "markdown",
   "id": "a710041a520f2564",
   "metadata": {},
   "source": [
    "### Function 2: Isar swimming warning\n",
    "Write a function `isar_swimming_warning(temp, flow_rate)` that outputs a warning whether the Isar is too dangerous for swimmers.\n",
    "\n",
    "- If the water temperature is below 15°C, the function should return `“Warning: The Isar is too cold! ❄️”` should be returned.\n",
    "- If the flow velocity is above 300 m³/s, the function `“Warning: The current is too strong! 🌊”` should be returned.\n",
    "- If both apply, the function `“Danger! The Isar is too cold and too strong! ⚠️”`.\n",
    "- If everything is fine, it returns `“Safe to swim! Enjoy the Isar! 🏊‍♂️”`."
   ]
  },
  {
   "cell_type": "code",
   "execution_count": 7,
   "id": "d36359a841e3ad73",
   "metadata": {},
   "outputs": [],
   "source": [
    "def isar_swimming_warning(temp, flow_rate):\n",
    "    too_cold = temp < 15\n",
    "    too_strong = flow_rate > 300\n",
    "\n",
    "    if too_cold and too_strong:\n",
    "        return \"Danger! The Isar is too cold and too strong! ⚠️\"\n",
    "    elif too_cold:\n",
    "        return \"Warning: The Isar is too cold! ❄️\"\n",
    "    elif too_strong:\n",
    "        return \"Warning: The current is too strong! 🌊\"\n",
    "    else:\n",
    "        return \"Safe to swim! Enjoy the Isar! 🏊‍♂️\""
   ]
  },
  {
   "cell_type": "code",
   "execution_count": 9,
   "id": "b57cfa5a00c137ca",
   "metadata": {},
   "outputs": [
    {
     "name": "stdout",
     "output_type": "stream",
     "text": [
      "Warning: The Isar is too cold! ❄️\n",
      "Warning: The current is too strong! 🌊\n",
      "Danger! The Isar is too cold and too strong! ⚠️\n",
      "Safe to swim! Enjoy the Isar! 🏊‍♂️\n"
     ]
    }
   ],
   "source": [
    "print(isar_swimming_warning(14, 250))  # \"Warning: The Isar is too cold! ❄️\"\n",
    "print(isar_swimming_warning(16, 320))  # \"Warning: The current is too strong! 🌊\"\n",
    "print(isar_swimming_warning(12, 350))  # \"Danger! The Isar is too cold and too strong! ⚠️\"\n",
    "print(isar_swimming_warning(18, 280))  # \"Safe to swim! Enjoy the Isar! 🏊‍♂️\""
   ]
  },
  {
   "cell_type": "markdown",
   "id": "1565a2837c639146",
   "metadata": {},
   "source": [
    "### Function 3: Flu cases\n",
    "Write a function `flu_cases(city_population, infection_rate, days)` that calculates the number of infected people in in several cities in Bavaria over a certain number of days using a simple exponential formula:\n",
    "\n",
    "$$\n",
    "\\text{Infected} = \\text{City population} \\times \\left( 1 - e^{-\\text{Infection rate} \\times \\text{Days}} \\right)\n",
    "$$\n",
    "\n",
    "- The cities and their populations are stored in two lists:\n",
    "    - city_names: Contains the city name (Munich, Nuremberg, Augsburg).\n",
    "    - populations: Contains the respective population figures (1480000, 530000, 300000).\n",
    "- The infection rate indicates how quickly the disease is spreading (e.g. `0.1` for slow spread, `0.3` for fast spread).\n",
    "- The function should round up the calculated number and output it in a formatted string.\n",
    "\n",
    "Note: `math.exp(-rate * days)` calculates the exponential term."
   ]
  },
  {
   "cell_type": "code",
   "execution_count": 71,
   "id": "52daff9f-2e67-426a-95a1-42c8b5f30045",
   "metadata": {},
   "outputs": [],
   "source": [
    "import math\n",
    "\n",
    "def flu_cases(city_names, populations, infection_rate, days):\n",
    "    results = {} \n",
    "    for city in city_names:\n",
    "        population = populations[city]\n",
    "        infected = population * (1 - math.exp(-infection_rate * days))\n",
    "        infected_rounded = math.ceil(infected)\n",
    "        results[city] = infected_rounded  \n",
    "    return results  \n",
    "\n",
    "city_names = [\"Munich\", \"Nuremberg\", \"Augsburg\"]\n",
    "populations = {\n",
    "    \"Munich\": 1480000,\n",
    "    \"Nuremberg\": 530000,\n",
    "    \"Augsburg\": 300000\n",
    "}\n"
   ]
  },
  {
   "cell_type": "code",
   "execution_count": 73,
   "id": "f88224f7c6e2325a",
   "metadata": {},
   "outputs": [
    {
     "name": "stdout",
     "output_type": "stream",
     "text": [
      "{'Munich': 745054, 'Nuremberg': 266810, 'Augsburg': 151025}\n",
      "{'Munich': 1298765, 'Nuremberg': 465099, 'Augsburg': 263264}\n"
     ]
    }
   ],
   "source": [
    "print(flu_cases(city_names, populations, 0.1, 7))\n",
    "print(flu_cases(city_names, populations, 0.3, 7))"
   ]
  }
 ],
 "metadata": {
  "kernelspec": {
   "display_name": "Python 3 (ipykernel)",
   "language": "python",
   "name": "python3"
  },
  "language_info": {
   "codemirror_mode": {
    "name": "ipython",
    "version": 3
   },
   "file_extension": ".py",
   "mimetype": "text/x-python",
   "name": "python",
   "nbconvert_exporter": "python",
   "pygments_lexer": "ipython3",
   "version": "3.12.7"
  }
 },
 "nbformat": 4,
 "nbformat_minor": 5
}
