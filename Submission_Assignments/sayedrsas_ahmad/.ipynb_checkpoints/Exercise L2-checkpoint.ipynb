{
 "cells": [
  {
   "cell_type": "markdown",
   "id": "367e5477fdf02fda",
   "metadata": {},
   "source": [
    "## Exercise: Pandas & NumPy with Spotify Dataset\n",
    "Use pandas and NumPy to analyze, filter, manipulate, and visualize data from the Spotify 2023 dataset.\n",
    "\n",
    "### Task 1: Data exploration and cleaning\n",
    "1. Load the dataset in pandas.\n",
    "2. Check for missing values and handle them:\n",
    "    - Replace missing values in the \"key\" column with \"Unknown\".\n",
    "    - Fill missing values in \"in_shazam_charts\" with 0.\n",
    "3. Filter the dataset:\n",
    "    - Extract all tracks from 2023 that have been in Spotify Charts at least 50 times.\n",
    "    - Save this subset as \"popular_tracks_2023.csv\"."
   ]
  },
  {
   "cell_type": "code",
   "execution_count": 68,
   "id": "68ad1af7a355f67",
   "metadata": {},
   "outputs": [
    {
     "data": {
      "text/plain": [
       "<bound method DataFrame.info of                               track_name      artist(s)_name  artist_count  \\\n",
       "0    Seven (feat. Latto) (Explicit Ver.)    Latto, Jung Kook             2   \n",
       "1                                   LALA         Myke Towers             1   \n",
       "2                                vampire      Olivia Rodrigo             1   \n",
       "3                           Cruel Summer        Taylor Swift             1   \n",
       "4                         WHERE SHE GOES           Bad Bunny             1   \n",
       "..                                   ...                 ...           ...   \n",
       "948                         My Mind & Me        Selena Gomez             1   \n",
       "949            Bigger Than The Whole Sky        Taylor Swift             1   \n",
       "950                 A Veces (feat. Feid)  Feid, Paulo Londra             2   \n",
       "951                        En La De Ella  Feid, Sech, Jhayco             3   \n",
       "952                                Alone           Burna Boy             1   \n",
       "\n",
       "     released_year  released_month  released_day  in_spotify_playlists  \\\n",
       "0             2023               7            14                   553   \n",
       "1             2023               3            23                  1474   \n",
       "2             2023               6            30                  1397   \n",
       "3             2019               8            23                  7858   \n",
       "4             2023               5            18                  3133   \n",
       "..             ...             ...           ...                   ...   \n",
       "948           2022              11             3                   953   \n",
       "949           2022              10            21                  1180   \n",
       "950           2022              11             3                   573   \n",
       "951           2022              10            20                  1320   \n",
       "952           2022              11             4                   782   \n",
       "\n",
       "     in_spotify_charts    streams  in_apple_playlists  ...  bpm key   mode  \\\n",
       "0                  147  141381703                  43  ...  125   B  Major   \n",
       "1                   48  133716286                  48  ...   92  C#  Major   \n",
       "2                  113  140003974                  94  ...  138   F  Major   \n",
       "3                  100  800840817                 116  ...  170   A  Major   \n",
       "4                   50  303236322                  84  ...  144   A  Minor   \n",
       "..                 ...        ...                 ...  ...  ...  ..    ...   \n",
       "948                  0   91473363                  61  ...  144   A  Major   \n",
       "949                  0  121871870                   4  ...  166  F#  Major   \n",
       "950                  0   73513683                   2  ...   92  C#  Major   \n",
       "951                  0  133895612                  29  ...   97  C#  Major   \n",
       "952                  2   96007391                  27  ...   90   E  Minor   \n",
       "\n",
       "    danceability_%  valence_% energy_% acousticness_%  instrumentalness_%  \\\n",
       "0               80         89       83             31                   0   \n",
       "1               71         61       74              7                   0   \n",
       "2               51         32       53             17                   0   \n",
       "3               55         58       72             11                   0   \n",
       "4               65         23       80             14                  63   \n",
       "..             ...        ...      ...            ...                 ...   \n",
       "948             60         24       39             57                   0   \n",
       "949             42          7       24             83                   1   \n",
       "950             80         81       67              4                   0   \n",
       "951             82         67       77              8                   0   \n",
       "952             61         32       67             15                   0   \n",
       "\n",
       "     liveness_%  speechiness_%  \n",
       "0             8              4  \n",
       "1            10              4  \n",
       "2            31              6  \n",
       "3            11             15  \n",
       "4            11              6  \n",
       "..          ...            ...  \n",
       "948           8              3  \n",
       "949          12              6  \n",
       "950           8              6  \n",
       "951          12              5  \n",
       "952          11              5  \n",
       "\n",
       "[953 rows x 24 columns]>"
      ]
     },
     "execution_count": 68,
     "metadata": {},
     "output_type": "execute_result"
    }
   ],
   "source": [
    "import pandas as pd\n",
    "\n",
    "spotify_df = pd.read_csv(\"spotify-2023.csv\", encoding_errors=\"ignore\")\n",
    "spotify_df.info"
   ]
  },
  {
   "cell_type": "code",
   "execution_count": 74,
   "id": "7fe31977-29c4-4c24-8ccb-ba0f1d62ef02",
   "metadata": {},
   "outputs": [
    {
     "data": {
      "text/plain": [
       "track_name              object\n",
       "artist(s)_name          object\n",
       "artist_count             int64\n",
       "released_year            int64\n",
       "released_month           int64\n",
       "released_day             int64\n",
       "in_spotify_playlists     int64\n",
       "in_spotify_charts        int64\n",
       "streams                 object\n",
       "in_apple_playlists       int64\n",
       "in_apple_charts          int64\n",
       "in_deezer_playlists     object\n",
       "in_deezer_charts         int64\n",
       "in_shazam_charts        object\n",
       "bpm                      int64\n",
       "key                     object\n",
       "mode                    object\n",
       "danceability_%           int64\n",
       "valence_%                int64\n",
       "energy_%                 int64\n",
       "acousticness_%           int64\n",
       "instrumentalness_%       int64\n",
       "liveness_%               int64\n",
       "speechiness_%            int64\n",
       "dtype: object"
      ]
     },
     "execution_count": 74,
     "metadata": {},
     "output_type": "execute_result"
    }
   ],
   "source": [
    "spotify_df.dtypes"
   ]
  },
  {
   "cell_type": "code",
   "execution_count": 25,
   "id": "2fabbb3bdba2ed78",
   "metadata": {},
   "outputs": [],
   "source": [
    "\n",
    "spotify_df['key'] = spotify_df['key'].fillna('Unknown')\n",
    "spotify_df['in_shazam_charts'] = spotify_df['in_shazam_charts'].fillna(0)\n",
    "na_count_k = spotify_df[\"key\"].isna().sum()\n",
    "na_count_k\n"
   ]
  },
  {
   "cell_type": "code",
   "execution_count": 27,
   "id": "56ecc8fe-4542-4be6-9db1-1b1bbbb63c05",
   "metadata": {},
   "outputs": [
    {
     "data": {
      "text/plain": [
       "0"
      ]
     },
     "execution_count": 27,
     "metadata": {},
     "output_type": "execute_result"
    }
   ],
   "source": [
    "na_count_sh = spotify_df[\"in_shazam_charts\"].isna().sum()\n",
    "na_count_sh"
   ]
  },
  {
   "cell_type": "code",
   "execution_count": 39,
   "id": "0a458792-0572-452f-ba79-afcdca75650b",
   "metadata": {},
   "outputs": [],
   "source": [
    "\n",
    "popular_tracks_2023 = spotify_df[(spotify_df['released_year'] == 2023) & (spotify_df['in_spotify_charts'] >= 50)]\n",
    "\n",
    "popular_tracks_2023.to_csv('popular_tracks_2023.csv', index=False)"
   ]
  },
  {
   "cell_type": "markdown",
   "id": "b02fdbe9de45e213",
   "metadata": {},
   "source": [
    "### Task 2: Statistical analysis and aggregation\n",
    "1. Calculate basic statistics:\n",
    "    - Find the average BPM (tempo) by key.\n",
    "    - Find the average energy level for songs with more than 100 million streams.\n",
    "2. Sort the dataset:\n",
    "    - Find the top 10 most streamed songs.\n",
    "    - Find the 5 least danceable songs.\n",
    "3. Group the dataset:\n",
    "    - Count how many tracks belong to each mode (Major/Minor)."
   ]
  },
  {
   "cell_type": "code",
   "execution_count": 43,
   "id": "504e96ad3e1ad494",
   "metadata": {},
   "outputs": [
    {
     "name": "stdout",
     "output_type": "stream",
     "text": [
      "key\n",
      "A          127.840000\n",
      "F#         125.479452\n",
      "D          123.802469\n",
      "D#         123.393939\n",
      "G#         123.021978\n",
      "C#         122.341667\n",
      "G          122.208333\n",
      "E          121.935484\n",
      "B          121.543210\n",
      "F          120.235955\n",
      "Unknown    119.947368\n",
      "A#         119.719298\n",
      "Name: bpm, dtype: float64\n"
     ]
    }
   ],
   "source": [
    "avg_bpm_by_key = spotify_df.groupby('key')['bpm'].mean().sort_values(ascending=False)\n",
    "print(avg_bpm_by_key)"
   ]
  },
  {
   "cell_type": "code",
   "execution_count": 58,
   "id": "bcab0918-c8ac-4848-b393-fbc33f8af2f3",
   "metadata": {},
   "outputs": [
    {
     "data": {
      "text/plain": [
       "<bound method Series.info of 0      141381703\n",
       "1      133716286\n",
       "2      140003974\n",
       "3      800840817\n",
       "4      303236322\n",
       "         ...    \n",
       "948     91473363\n",
       "949    121871870\n",
       "950     73513683\n",
       "951    133895612\n",
       "952     96007391\n",
       "Name: streams, Length: 953, dtype: object>"
      ]
     },
     "execution_count": 58,
     "metadata": {},
     "output_type": "execute_result"
    }
   ],
   "source": [
    "spotify_df[\"streams\"].info"
   ]
  },
  {
   "cell_type": "code",
   "execution_count": 76,
   "id": "85e07aef-8294-4237-931f-3beec5dd7d6e",
   "metadata": {},
   "outputs": [],
   "source": [
    "spotify_df['streams'] = pd.to_numeric(spotify_df['streams'], errors = \"coerce\")"
   ]
  },
  {
   "cell_type": "code",
   "execution_count": 78,
   "id": "f0bc1fd9-ca8d-4154-af19-3deab6e770f8",
   "metadata": {},
   "outputs": [
    {
     "name": "stdout",
     "output_type": "stream",
     "text": [
      "64.1125\n"
     ]
    }
   ],
   "source": [
    "high_streams = spotify_df[spotify_df['streams'] > 100000000]\n",
    "avg_energy = high_streams['energy_%'].mean()\n",
    "print(avg_energy)"
   ]
  },
  {
   "cell_type": "code",
   "execution_count": 81,
   "id": "2eeb169d-26d5-4c7a-8d1b-452eae405799",
   "metadata": {},
   "outputs": [
    {
     "name": "stdout",
     "output_type": "stream",
     "text": [
      "                                        track_name  \\\n",
      "55                                 Blinding Lights   \n",
      "179                                   Shape of You   \n",
      "86                               Someone You Loved   \n",
      "620                                   Dance Monkey   \n",
      "41   Sunflower - Spider-Man: Into the Spider-Verse   \n",
      "162                                      One Dance   \n",
      "84                       STAY (with Justin Bieber)   \n",
      "140                                       Believer   \n",
      "725                                         Closer   \n",
      "48                                         Starboy   \n",
      "\n",
      "                   artist(s)_name       streams  \n",
      "55                     The Weeknd  3.703895e+09  \n",
      "179                    Ed Sheeran  3.562544e+09  \n",
      "86                  Lewis Capaldi  2.887242e+09  \n",
      "620                   Tones and I  2.864792e+09  \n",
      "41          Post Malone, Swae Lee  2.808097e+09  \n",
      "162           Drake, WizKid, Kyla  2.713922e+09  \n",
      "84   Justin Bieber, The Kid Laroi  2.665344e+09  \n",
      "140               Imagine Dragons  2.594040e+09  \n",
      "725      The Chainsmokers, Halsey  2.591224e+09  \n",
      "48          The Weeknd, Daft Punk  2.565530e+09  \n"
     ]
    }
   ],
   "source": [
    "top_streamed = spotify_df.nlargest(10, 'streams')[['track_name', 'artist(s)_name', 'streams']]\n",
    "print(top_streamed)"
   ]
  },
  {
   "cell_type": "code",
   "execution_count": 83,
   "id": "26f6cec5-4b13-4d5c-9e50-850ccdc0b5ed",
   "metadata": {},
   "outputs": [
    {
     "name": "stdout",
     "output_type": "stream",
     "text": [
      "                                            track_name  \\\n",
      "469                                    White Christmas   \n",
      "447           It's the Most Wonderful Time of the Year   \n",
      "387  Lift Me Up - From Black Panther: Wakanda Forev...   \n",
      "521                                            Dawn FM   \n",
      "523                                        Starry Eyes   \n",
      "\n",
      "                                        artist(s)_name  danceability_%  \n",
      "469  Bing Crosby, John Scott Trotter & His Orchestr...              23  \n",
      "447                                      Andy Williams              24  \n",
      "387                                            Rihanna              25  \n",
      "521                                         The Weeknd              27  \n",
      "523                                         The Weeknd              28  \n"
     ]
    }
   ],
   "source": [
    "least_danceable = spotify_df.nsmallest(5, 'danceability_%')[['track_name', 'artist(s)_name', 'danceability_%']]\n",
    "print(least_danceable)"
   ]
  },
  {
   "cell_type": "markdown",
   "id": "37a52ffc453f5158",
   "metadata": {},
   "source": [
    "### Task 3: Feature engineering\n",
    "1. Create a new variable \"track_popularity\" using the following logic:\n",
    "    - \"Super Hit\" if streams > 500M.\n",
    "    - \"Hit\" if streams between 100M and 500M.\n",
    "    - \"Moderate\" if streams between 50M and 100M.\n",
    "    - \"Less Popular\" otherwise.\n",
    "2. Save the modified dataset with the new column as \"track_popularity_data.csv\"."
   ]
  },
  {
   "cell_type": "code",
   "execution_count": 86,
   "id": "2e3a205a7d53d4f0",
   "metadata": {},
   "outputs": [
    {
     "name": "stdout",
     "output_type": "stream",
     "text": [
      "       streams track_popularity\n",
      "0  141381703.0         Moderate\n",
      "1  133716286.0         Moderate\n",
      "2  140003974.0         Moderate\n",
      "3  800840817.0        Super Hit\n",
      "4  303236322.0         Moderate\n"
     ]
    }
   ],
   "source": [
    "def classify_popularity(streams):\n",
    "    if streams > 500000000 :\n",
    "        return \"Super Hit\"\n",
    "    elif streams < 100000000:\n",
    "        return \"Hit\"\n",
    "    elif streams > 50000000:\n",
    "        return \"Moderate\"\n",
    "    else:\n",
    "        return \"Obese\"\n",
    "\n",
    "spotify_df[\"track_popularity\"] = spotify_df[\"streams\"].apply(classify_popularity)\n",
    "print(spotify_df[[\"streams\", \"track_popularity\"]].head())"
   ]
  },
  {
   "cell_type": "code",
   "execution_count": 88,
   "id": "ee2b3d7e-5df2-400b-aa2e-293a0546c973",
   "metadata": {},
   "outputs": [],
   "source": [
    "spotify_df.to_csv('track_popularity_data.csv', index=False)"
   ]
  },
  {
   "cell_type": "markdown",
   "id": "e95c6711ec0303f3",
   "metadata": {},
   "source": [
    "### Task 4: Unique Task\n",
    "Each student must create their own unique variable in the dataset. Choose one approach:\n",
    "1. Assign a playlist ranking (playlist_rank):\n",
    "    - Generate a random rank between 1 and 100 for each track using np.random.randint().\n",
    "2. Create an emotional category (mood_category):\n",
    "    - Categorize songs based on valence (happiness) and energy.\n",
    "      - \"Energetic & Happy\" if valence > 60 and energy > 70.\n",
    "      - \"Calm & Happy\" if valence > 60 and energy <= 70.\n",
    "      - \"Sad\" if valence < 40.\n",
    "      - \"Neutral\" otherwise.\n",
    "3. Define a personal popularity score (custom_popularity_score):\n",
    "    - Use a custom formula (e.g., (streams / bpm) * danceability_%)."
   ]
  },
  {
   "cell_type": "code",
   "execution_count": 92,
   "id": "7bbcb5d288b733c0",
   "metadata": {},
   "outputs": [
    {
     "name": "stdout",
     "output_type": "stream",
     "text": [
      "                            track_name  playlist_rank\n",
      "0  Seven (feat. Latto) (Explicit Ver.)             18\n",
      "1                                 LALA             74\n",
      "2                              vampire             75\n",
      "3                         Cruel Summer             14\n",
      "4                       WHERE SHE GOES             34\n"
     ]
    }
   ],
   "source": [
    "import numpy as np\n",
    "spotify_df['playlist_rank'] = np.random.randint(1, 101, size=len(spotify_df))\n",
    "print(spotify_df[['track_name', 'playlist_rank']].head())\n"
   ]
  }
 ],
 "metadata": {
  "kernelspec": {
   "display_name": "Python 3 (ipykernel)",
   "language": "python",
   "name": "python3"
  },
  "language_info": {
   "codemirror_mode": {
    "name": "ipython",
    "version": 3
   },
   "file_extension": ".py",
   "mimetype": "text/x-python",
   "name": "python",
   "nbconvert_exporter": "python",
   "pygments_lexer": "ipython3",
   "version": "3.12.7"
  }
 },
 "nbformat": 4,
 "nbformat_minor": 5
}
